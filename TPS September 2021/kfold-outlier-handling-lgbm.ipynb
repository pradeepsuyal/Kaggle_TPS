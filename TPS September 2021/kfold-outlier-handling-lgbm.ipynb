{
 "cells": [
  {
   "cell_type": "code",
   "execution_count": 1,
   "id": "48c3224a",
   "metadata": {
    "_cell_guid": "b1076dfc-b9ad-4769-8c92-a6c4dae69d19",
    "_uuid": "8f2839f25d086af736a60e9eeb907d3b93b6e0e5",
    "execution": {
     "iopub.execute_input": "2021-09-30T11:22:07.741472Z",
     "iopub.status.busy": "2021-09-30T11:22:07.740721Z",
     "iopub.status.idle": "2021-09-30T11:22:09.091035Z",
     "shell.execute_reply": "2021-09-30T11:22:09.090040Z",
     "shell.execute_reply.started": "2021-09-30T10:41:22.986382Z"
    },
    "papermill": {
     "duration": 1.379532,
     "end_time": "2021-09-30T11:22:09.091223",
     "exception": false,
     "start_time": "2021-09-30T11:22:07.711691",
     "status": "completed"
    },
    "tags": []
   },
   "outputs": [],
   "source": [
    "import numpy as np \n",
    "import pandas as pd \n",
    "import matplotlib.pyplot as plt\n",
    "import seaborn as sns\n",
    "\n",
    "# Supress Warnings\n",
    "import warnings\n",
    "warnings.filterwarnings('ignore')\n",
    "\n",
    "# To impute missing Values\n",
    "from sklearn.impute import SimpleImputer"
   ]
  },
  {
   "cell_type": "code",
   "execution_count": 2,
   "id": "b9d60951",
   "metadata": {
    "execution": {
     "iopub.execute_input": "2021-09-30T11:22:09.129821Z",
     "iopub.status.busy": "2021-09-30T11:22:09.129180Z",
     "iopub.status.idle": "2021-09-30T11:22:52.556194Z",
     "shell.execute_reply": "2021-09-30T11:22:52.555416Z",
     "shell.execute_reply.started": "2021-09-30T10:41:24.413113Z"
    },
    "papermill": {
     "duration": 43.447363,
     "end_time": "2021-09-30T11:22:52.556368",
     "exception": false,
     "start_time": "2021-09-30T11:22:09.109005",
     "status": "completed"
    },
    "tags": []
   },
   "outputs": [],
   "source": [
    "train = pd.read_csv('../input/tabular-playground-series-sep-2021/train.csv')\n",
    "test = pd.read_csv('../input/tabular-playground-series-sep-2021/test.csv')"
   ]
  },
  {
   "cell_type": "code",
   "execution_count": 3,
   "id": "bc0b75d7",
   "metadata": {
    "execution": {
     "iopub.execute_input": "2021-09-30T11:22:52.599644Z",
     "iopub.status.busy": "2021-09-30T11:22:52.598945Z",
     "iopub.status.idle": "2021-09-30T11:22:54.381647Z",
     "shell.execute_reply": "2021-09-30T11:22:54.382199Z",
     "shell.execute_reply.started": "2021-09-30T10:41:55.883045Z"
    },
    "papermill": {
     "duration": 1.809809,
     "end_time": "2021-09-30T11:22:54.382391",
     "exception": false,
     "start_time": "2021-09-30T11:22:52.572582",
     "status": "completed"
    },
    "tags": []
   },
   "outputs": [],
   "source": [
    "# prepare dataframe for modeling\n",
    "X = train.drop(columns=['id','claim']).copy()\n",
    "y = train['claim']\n",
    "\n",
    "test_data = test.drop(columns=['id']).copy()"
   ]
  },
  {
   "cell_type": "code",
   "execution_count": 4,
   "id": "946c8ebb",
   "metadata": {
    "execution": {
     "iopub.execute_input": "2021-09-30T11:22:54.417503Z",
     "iopub.status.busy": "2021-09-30T11:22:54.416819Z",
     "iopub.status.idle": "2021-09-30T11:23:22.111132Z",
     "shell.execute_reply": "2021-09-30T11:23:22.110559Z",
     "shell.execute_reply.started": "2021-09-30T10:41:56.975456Z"
    },
    "papermill": {
     "duration": 27.712992,
     "end_time": "2021-09-30T11:23:22.111296",
     "exception": false,
     "start_time": "2021-09-30T11:22:54.398304",
     "status": "completed"
    },
    "tags": []
   },
   "outputs": [],
   "source": [
    "# feature Engineering\n",
    "def get_stats_per_row(data):\n",
    "    data['mv_row'] = data.isna().sum(axis=1)\n",
    "    data['std_row'] = data.std(axis=1)\n",
    "    data['var_row'] = data.var(axis=1)\n",
    "    data['mean'] = data.mean(axis=1)\n",
    "    data['median'] = data.median(axis=1)\n",
    "    data['root_mean_square'] = (data ** 2).sum(1).pow(1/2)\n",
    "    data['abs'] = data.abs().sum(axis=1)\n",
    "    return data\n",
    "X = get_stats_per_row(X)\n",
    "test_data = get_stats_per_row(test_data)"
   ]
  },
  {
   "cell_type": "code",
   "execution_count": 5,
   "id": "203530f8",
   "metadata": {
    "execution": {
     "iopub.execute_input": "2021-09-30T11:23:22.151843Z",
     "iopub.status.busy": "2021-09-30T11:23:22.150847Z",
     "iopub.status.idle": "2021-09-30T11:23:22.153233Z",
     "shell.execute_reply": "2021-09-30T11:23:22.153692Z",
     "shell.execute_reply.started": "2021-09-30T10:42:43.324333Z"
    },
    "papermill": {
     "duration": 0.023513,
     "end_time": "2021-09-30T11:23:22.153866",
     "exception": false,
     "start_time": "2021-09-30T11:23:22.130353",
     "status": "completed"
    },
    "tags": []
   },
   "outputs": [],
   "source": [
    "from tqdm import tqdm\n",
    "\n",
    "features = [x for x in X.columns.values if x[0]==\"f\"]"
   ]
  },
  {
   "cell_type": "code",
   "execution_count": 6,
   "id": "1b3998f3",
   "metadata": {
    "execution": {
     "iopub.execute_input": "2021-09-30T11:23:22.195147Z",
     "iopub.status.busy": "2021-09-30T11:23:22.193471Z",
     "iopub.status.idle": "2021-09-30T11:23:28.815732Z",
     "shell.execute_reply": "2021-09-30T11:23:28.815165Z",
     "shell.execute_reply.started": "2021-09-30T10:43:01.194085Z"
    },
    "papermill": {
     "duration": 6.64514,
     "end_time": "2021-09-30T11:23:28.815875",
     "exception": false,
     "start_time": "2021-09-30T11:23:22.170735",
     "status": "completed"
    },
    "tags": []
   },
   "outputs": [
    {
     "name": "stderr",
     "output_type": "stream",
     "text": [
      "100%|██████████| 67/67 [00:01<00:00, 35.46it/s]\n"
     ]
    }
   ],
   "source": [
    "skewed_feat = X[features].skew()\n",
    "skewed_feat = [*skewed_feat[abs(skewed_feat.values) > 1].index]\n",
    "\n",
    "for feat in tqdm(skewed_feat):\n",
    "    median = X[feat].median()\n",
    "    X[feat] = X[feat].fillna(median)\n",
    "    test_data[feat] = test_data[feat].fillna(median)"
   ]
  },
  {
   "cell_type": "code",
   "execution_count": 7,
   "id": "28e181a9",
   "metadata": {
    "execution": {
     "iopub.execute_input": "2021-09-30T11:23:28.883124Z",
     "iopub.status.busy": "2021-09-30T11:23:28.877882Z",
     "iopub.status.idle": "2021-09-30T11:23:32.116518Z",
     "shell.execute_reply": "2021-09-30T11:23:32.116977Z",
     "shell.execute_reply.started": "2021-09-30T10:46:40.581559Z"
    },
    "papermill": {
     "duration": 3.279422,
     "end_time": "2021-09-30T11:23:32.117167",
     "exception": false,
     "start_time": "2021-09-30T11:23:28.837745",
     "status": "completed"
    },
    "tags": []
   },
   "outputs": [
    {
     "name": "stderr",
     "output_type": "stream",
     "text": [
      "100%|██████████| 118/118 [00:03<00:00, 36.58it/s]\n"
     ]
    }
   ],
   "source": [
    "fill_value_dict = {\n",
    "    'f1': 'Mean', \n",
    "    'f2': 'Mode', \n",
    "    'f3': 'Median', \n",
    "    'f4': 'Median', \n",
    "    'f5': 'Mode', \n",
    "    'f6': 'Mean', \n",
    "    'f7': 'Median', \n",
    "    'f8': 'Median', \n",
    "    'f9': 'Median', \n",
    "    'f10': 'Median', \n",
    "    'f11': 'Mode', \n",
    "    'f12': 'Median', \n",
    "    'f13': 'Mode', \n",
    "    'f14': 'Median', \n",
    "    'f15': 'Mean', \n",
    "    'f16': 'Median', \n",
    "    'f17': 'Mean', \n",
    "    'f18': 'Median', \n",
    "    'f19': 'Median', \n",
    "    'f20': 'Median', \n",
    "    'f21': 'Median', \n",
    "    'f22': 'Mean', \n",
    "    'f23': 'Mode', \n",
    "    'f24': 'Median', \n",
    "    'f25': 'Median', \n",
    "    'f26': 'Median', \n",
    "    'f27': 'Median', \n",
    "    'f28': 'Median', \n",
    "    'f29': 'Mode', \n",
    "    'f30': 'Median', \n",
    "    'f31': 'Mode', \n",
    "    'f32': 'Median', \n",
    "    'f33': 'Median', \n",
    "    'f34': 'Mean', \n",
    "    'f35': 'Median', \n",
    "    'f36': 'Mean', \n",
    "    'f37': 'Median', \n",
    "    'f38': 'Median', \n",
    "    'f39': 'Median', \n",
    "    'f40': 'Mode', \n",
    "    'f41': 'Median', \n",
    "    'f42': 'Mode', \n",
    "    'f43': 'Mean', \n",
    "    'f44': 'Median', \n",
    "    'f45': 'Median', \n",
    "    'f46': 'Mean', \n",
    "    'f47': 'Mode', \n",
    "    'f48': 'Mean', \n",
    "    'f49': 'Mode', \n",
    "    'f50': 'Mode', \n",
    "    'f51': 'Median', \n",
    "    'f52': 'Median', \n",
    "    'f53': 'Median', \n",
    "    'f54': 'Mean', \n",
    "    'f55': 'Median', \n",
    "    'f56': 'Median', \n",
    "    'f57': 'Mean', \n",
    "    'f58': 'Mode', \n",
    "    'f59': 'Median', \n",
    "    'f60': 'Median', \n",
    "    'f61': 'Mode', \n",
    "    'f62': 'Median', \n",
    "    'f63': 'Median', \n",
    "    'f64': 'Median', \n",
    "    'f65': 'Mode', \n",
    "    'f66': 'Mode', \n",
    "    'f67': 'Median', \n",
    "    'f68': 'Median', \n",
    "    'f69': 'Median', \n",
    "    'f70': 'Mode', \n",
    "    'f71': 'Median', \n",
    "    'f72': 'Median', \n",
    "    'f73': 'Median', \n",
    "    'f74': 'Mode', \n",
    "    'f75': 'Mode', \n",
    "    'f76': 'Mean', \n",
    "    'f77': 'Mode', \n",
    "    'f78': 'Median', \n",
    "    'f79': 'Mean', \n",
    "    'f80': 'Mode', \n",
    "    'f81': 'Mode', \n",
    "    'f82': 'Median', \n",
    "    'f83': 'Mode', \n",
    "    'f84': 'Mode', \n",
    "    'f85': 'Median', \n",
    "    'f86': 'Median', \n",
    "    'f87': 'Median', \n",
    "    'f88': 'Median', \n",
    "    'f89': 'Median', \n",
    "    'f90': 'Median', \n",
    "    'f91': 'Mode', \n",
    "    'f92': 'Median', \n",
    "    'f93': 'Median', \n",
    "    'f94': 'Mode', \n",
    "    'f95': 'Median', \n",
    "    'f96': 'Median', \n",
    "    'f97': 'Mean', \n",
    "    'f98': 'Median', \n",
    "    'f99': 'Median', \n",
    "    'f100': 'Mode', \n",
    "    'f101': 'Median', \n",
    "    'f102': 'Median', \n",
    "    'f103': 'Mode', \n",
    "    'f104': 'Median', \n",
    "    'f105': 'Median', \n",
    "    'f106': 'Median', \n",
    "    'f107': 'Median', \n",
    "    'f108': 'Median', \n",
    "    'f109': 'Mode', \n",
    "    'f110': 'Median', \n",
    "    'f111': 'Median', \n",
    "    'f112': 'Mode', \n",
    "    'f113': 'Median', \n",
    "    'f114': 'Median', \n",
    "    'f115': 'Median', \n",
    "    'f116': 'Mode', \n",
    "    'f117': 'Median', \n",
    "    'f118': 'Median'\n",
    "    }\n",
    "\n",
    "for col in tqdm(features):\n",
    "    if fill_value_dict.get(col)=='Mean':\n",
    "        fill_value = X[col].mean()\n",
    "    elif fill_value_dict.get(col)=='Median':\n",
    "        fill_value = X[col].median()\n",
    "    elif fill_value_dict.get(col)=='Mode':\n",
    "        fill_value = X[col].mode().iloc[0]\n",
    "    \n",
    "    X[col].fillna(fill_value, inplace=True)\n",
    "    test_data[col].fillna(fill_value, inplace=True)\n"
   ]
  },
  {
   "cell_type": "code",
   "execution_count": 8,
   "id": "3452d003",
   "metadata": {
    "execution": {
     "iopub.execute_input": "2021-09-30T11:23:32.185581Z",
     "iopub.status.busy": "2021-09-30T11:23:32.184854Z",
     "iopub.status.idle": "2021-09-30T11:23:39.215442Z",
     "shell.execute_reply": "2021-09-30T11:23:39.215998Z",
     "shell.execute_reply.started": "2021-09-30T10:47:31.778434Z"
    },
    "papermill": {
     "duration": 7.067512,
     "end_time": "2021-09-30T11:23:39.216193",
     "exception": false,
     "start_time": "2021-09-30T11:23:32.148681",
     "status": "completed"
    },
    "tags": []
   },
   "outputs": [],
   "source": [
    "#handling outliers\n",
    "tenth_percentile = np.percentile(X, 10)\n",
    "ninetieth_percentile = np.percentile(X, 90)\n",
    "# print(tenth_percentile, ninetieth_percentile)\n",
    "b = np.where(X<tenth_percentile, tenth_percentile, X)\n",
    "b = np.where(b>ninetieth_percentile, ninetieth_percentile, b)\n",
    "# print(\"Sample:\", sample)\n",
    "#print(\"New array:\",b)"
   ]
  },
  {
   "cell_type": "code",
   "execution_count": 9,
   "id": "f1de416b",
   "metadata": {
    "execution": {
     "iopub.execute_input": "2021-09-30T11:23:39.279684Z",
     "iopub.status.busy": "2021-09-30T11:23:39.278599Z",
     "iopub.status.idle": "2021-09-30T11:23:39.287526Z",
     "shell.execute_reply": "2021-09-30T11:23:39.286940Z",
     "shell.execute_reply.started": "2021-09-30T10:47:44.251347Z"
    },
    "papermill": {
     "duration": 0.042144,
     "end_time": "2021-09-30T11:23:39.287682",
     "exception": false,
     "start_time": "2021-09-30T11:23:39.245538",
     "status": "completed"
    },
    "tags": []
   },
   "outputs": [],
   "source": [
    "X = pd.DataFrame(data = b, columns= X.columns)"
   ]
  },
  {
   "cell_type": "code",
   "execution_count": 10,
   "id": "bf50538a",
   "metadata": {
    "execution": {
     "iopub.execute_input": "2021-09-30T11:23:39.354450Z",
     "iopub.status.busy": "2021-09-30T11:23:39.352657Z",
     "iopub.status.idle": "2021-09-30T11:23:43.476028Z",
     "shell.execute_reply": "2021-09-30T11:23:43.476550Z",
     "shell.execute_reply.started": "2021-09-30T10:48:02.253694Z"
    },
    "papermill": {
     "duration": 4.159694,
     "end_time": "2021-09-30T11:23:43.476746",
     "exception": false,
     "start_time": "2021-09-30T11:23:39.317052",
     "status": "completed"
    },
    "tags": []
   },
   "outputs": [],
   "source": [
    "tenth_percentile = np.percentile(test_data, 10)\n",
    "ninetieth_percentile = np.percentile(test_data, 90)\n",
    "# print(tenth_percentile, ninetieth_percentile)\n",
    "c = np.where(test_data<tenth_percentile, tenth_percentile, test_data)\n",
    "c = np.where(c>ninetieth_percentile, ninetieth_percentile, c)\n",
    "# print(\"Sample:\", sample)\n",
    "#print(\"New array:\",c)"
   ]
  },
  {
   "cell_type": "code",
   "execution_count": 11,
   "id": "c6683444",
   "metadata": {
    "execution": {
     "iopub.execute_input": "2021-09-30T11:23:43.540440Z",
     "iopub.status.busy": "2021-09-30T11:23:43.539715Z",
     "iopub.status.idle": "2021-09-30T11:23:43.544928Z",
     "shell.execute_reply": "2021-09-30T11:23:43.545449Z",
     "shell.execute_reply.started": "2021-09-30T10:48:13.868693Z"
    },
    "papermill": {
     "duration": 0.039099,
     "end_time": "2021-09-30T11:23:43.545634",
     "exception": false,
     "start_time": "2021-09-30T11:23:43.506535",
     "status": "completed"
    },
    "tags": []
   },
   "outputs": [],
   "source": [
    "test = pd.DataFrame(data = c, columns= test_data.columns)"
   ]
  },
  {
   "cell_type": "code",
   "execution_count": 12,
   "id": "d4780f76",
   "metadata": {
    "execution": {
     "iopub.execute_input": "2021-09-30T11:23:43.607824Z",
     "iopub.status.busy": "2021-09-30T11:23:43.607087Z",
     "iopub.status.idle": "2021-09-30T11:23:44.907465Z",
     "shell.execute_reply": "2021-09-30T11:23:44.906819Z",
     "shell.execute_reply.started": "2021-09-30T10:48:31.528545Z"
    },
    "papermill": {
     "duration": 1.332467,
     "end_time": "2021-09-30T11:23:44.907621",
     "exception": false,
     "start_time": "2021-09-30T11:23:43.575154",
     "status": "completed"
    },
    "tags": []
   },
   "outputs": [
    {
     "data": {
      "text/html": [
       "<style type='text/css'>\n",
       ".datatable table.frame { margin-bottom: 0; }\n",
       ".datatable table.frame thead { border-bottom: none; }\n",
       ".datatable table.frame tr.coltypes td {  color: #FFFFFF;  line-height: 6px;  padding: 0 0.5em;}\n",
       ".datatable .bool    { background: #DDDD99; }\n",
       ".datatable .object  { background: #565656; }\n",
       ".datatable .int     { background: #5D9E5D; }\n",
       ".datatable .float   { background: #4040CC; }\n",
       ".datatable .str     { background: #CC4040; }\n",
       ".datatable .time    { background: #40CC40; }\n",
       ".datatable .row_index {  background: var(--jp-border-color3);  border-right: 1px solid var(--jp-border-color0);  color: var(--jp-ui-font-color3);  font-size: 9px;}\n",
       ".datatable .frame tbody td { text-align: left; }\n",
       ".datatable .frame tr.coltypes .row_index {  background: var(--jp-border-color0);}\n",
       ".datatable th:nth-child(2) { padding-left: 12px; }\n",
       ".datatable .hellipsis {  color: var(--jp-cell-editor-border-color);}\n",
       ".datatable .vellipsis {  background: var(--jp-layout-color0);  color: var(--jp-cell-editor-border-color);}\n",
       ".datatable .na {  color: var(--jp-cell-editor-border-color);  font-size: 80%;}\n",
       ".datatable .sp {  opacity: 0.25;}\n",
       ".datatable .footer { font-size: 9px; }\n",
       ".datatable .frame_dimensions {  background: var(--jp-border-color3);  border-top: 1px solid var(--jp-border-color0);  color: var(--jp-ui-font-color3);  display: inline-block;  opacity: 0.6;  padding: 1px 10px 1px 5px;}\n",
       "</style>\n"
      ],
      "text/plain": [
       "<IPython.core.display.HTML object>"
      ]
     },
     "metadata": {},
     "output_type": "display_data"
    }
   ],
   "source": [
    "from sklearn.metrics import roc_auc_score, roc_curve, auc\n",
    "from lightgbm import LGBMClassifier\n",
    "from xgboost import XGBClassifier"
   ]
  },
  {
   "cell_type": "code",
   "execution_count": 13,
   "id": "05e03b96",
   "metadata": {
    "execution": {
     "iopub.execute_input": "2021-09-30T11:23:44.973636Z",
     "iopub.status.busy": "2021-09-30T11:23:44.972955Z",
     "iopub.status.idle": "2021-09-30T11:23:44.976125Z",
     "shell.execute_reply": "2021-09-30T11:23:44.975577Z",
     "shell.execute_reply.started": "2021-09-30T10:51:18.008750Z"
    },
    "papermill": {
     "duration": 0.037915,
     "end_time": "2021-09-30T11:23:44.976276",
     "exception": false,
     "start_time": "2021-09-30T11:23:44.938361",
     "status": "completed"
    },
    "tags": []
   },
   "outputs": [],
   "source": [
    "import random\n",
    "import os\n",
    "\n",
    "SEED = 12345"
   ]
  },
  {
   "cell_type": "code",
   "execution_count": 14,
   "id": "d984318c",
   "metadata": {
    "execution": {
     "iopub.execute_input": "2021-09-30T11:23:45.043785Z",
     "iopub.status.busy": "2021-09-30T11:23:45.043133Z",
     "iopub.status.idle": "2021-09-30T11:23:45.045043Z",
     "shell.execute_reply": "2021-09-30T11:23:45.045668Z",
     "shell.execute_reply.started": "2021-09-30T10:51:23.103296Z"
    },
    "papermill": {
     "duration": 0.038526,
     "end_time": "2021-09-30T11:23:45.045838",
     "exception": false,
     "start_time": "2021-09-30T11:23:45.007312",
     "status": "completed"
    },
    "tags": []
   },
   "outputs": [],
   "source": [
    "def seed_everything(seed=64):\n",
    "    random.seed(seed)\n",
    "    os.environ['PYTHONHASHSEED'] = str(seed)\n",
    "    np.random.seed(seed)\n",
    "\n",
    "seed_everything(SEED)"
   ]
  },
  {
   "cell_type": "code",
   "execution_count": 15,
   "id": "88db960d",
   "metadata": {
    "execution": {
     "iopub.execute_input": "2021-09-30T11:23:45.112438Z",
     "iopub.status.busy": "2021-09-30T11:23:45.109382Z",
     "iopub.status.idle": "2021-09-30T11:23:45.114387Z",
     "shell.execute_reply": "2021-09-30T11:23:45.114951Z",
     "shell.execute_reply.started": "2021-09-30T10:51:47.018414Z"
    },
    "papermill": {
     "duration": 0.038582,
     "end_time": "2021-09-30T11:23:45.115147",
     "exception": false,
     "start_time": "2021-09-30T11:23:45.076565",
     "status": "completed"
    },
    "tags": []
   },
   "outputs": [],
   "source": [
    "params = {\n",
    "    'max_depth': 3, \n",
    "    'colsample_bytree': 0.3,  \n",
    "    'subsample': 0.5, \n",
    "    'reg_alpha': 18, \n",
    "    'reg_lambda': 17,\n",
    "    'num_leaves': 7,\n",
    "    'objective' : 'binary',\n",
    "    'importance_type': 'gain',\n",
    "}"
   ]
  },
  {
   "cell_type": "code",
   "execution_count": 16,
   "id": "1f94db24",
   "metadata": {
    "execution": {
     "iopub.execute_input": "2021-09-30T11:23:45.184163Z",
     "iopub.status.busy": "2021-09-30T11:23:45.183060Z",
     "iopub.status.idle": "2021-09-30T11:23:45.184970Z",
     "shell.execute_reply": "2021-09-30T11:23:45.185568Z",
     "shell.execute_reply.started": "2021-09-30T10:52:47.968816Z"
    },
    "papermill": {
     "duration": 0.038577,
     "end_time": "2021-09-30T11:23:45.185732",
     "exception": false,
     "start_time": "2021-09-30T11:23:45.147155",
     "status": "completed"
    },
    "tags": []
   },
   "outputs": [],
   "source": [
    "from sklearn.model_selection import KFold, StratifiedKFold\n",
    "\n",
    "kf = KFold(n_splits = 7, shuffle = True, random_state = SEED)\n",
    "skf = StratifiedKFold(n_splits = 7, shuffle = True, random_state = SEED)"
   ]
  },
  {
   "cell_type": "code",
   "execution_count": 17,
   "id": "48a053a7",
   "metadata": {
    "execution": {
     "iopub.execute_input": "2021-09-30T11:23:45.251522Z",
     "iopub.status.busy": "2021-09-30T11:23:45.250558Z",
     "iopub.status.idle": "2021-09-30T11:49:12.470469Z",
     "shell.execute_reply": "2021-09-30T11:49:12.471038Z",
     "shell.execute_reply.started": "2021-09-30T10:54:24.348255Z"
    },
    "papermill": {
     "duration": 1527.254126,
     "end_time": "2021-09-30T11:49:12.471412",
     "exception": false,
     "start_time": "2021-09-30T11:23:45.217286",
     "status": "completed"
    },
    "tags": []
   },
   "outputs": [
    {
     "name": "stdout",
     "output_type": "stream",
     "text": [
      "Out of fold predictions generating for fold  1 \n",
      "\n",
      "Training until validation scores don't improve for 300 rounds\n",
      "[100]\tvalid_0's auc: 0.807858\tvalid_0's binary_logloss: 0.511976\n",
      "[200]\tvalid_0's auc: 0.810193\tvalid_0's binary_logloss: 0.510671\n",
      "[300]\tvalid_0's auc: 0.811384\tvalid_0's binary_logloss: 0.509977\n",
      "[400]\tvalid_0's auc: 0.812199\tvalid_0's binary_logloss: 0.5095\n",
      "[500]\tvalid_0's auc: 0.812757\tvalid_0's binary_logloss: 0.509167\n",
      "[600]\tvalid_0's auc: 0.813226\tvalid_0's binary_logloss: 0.508887\n",
      "[700]\tvalid_0's auc: 0.813595\tvalid_0's binary_logloss: 0.508677\n",
      "[800]\tvalid_0's auc: 0.813826\tvalid_0's binary_logloss: 0.508518\n",
      "[900]\tvalid_0's auc: 0.814027\tvalid_0's binary_logloss: 0.508386\n",
      "[1000]\tvalid_0's auc: 0.814132\tvalid_0's binary_logloss: 0.508311\n",
      "[1100]\tvalid_0's auc: 0.814309\tvalid_0's binary_logloss: 0.50821\n",
      "[1200]\tvalid_0's auc: 0.814476\tvalid_0's binary_logloss: 0.508104\n",
      "[1300]\tvalid_0's auc: 0.814514\tvalid_0's binary_logloss: 0.508075\n",
      "[1400]\tvalid_0's auc: 0.814573\tvalid_0's binary_logloss: 0.508026\n",
      "[1500]\tvalid_0's auc: 0.814688\tvalid_0's binary_logloss: 0.507955\n",
      "[1600]\tvalid_0's auc: 0.814779\tvalid_0's binary_logloss: 0.5079\n",
      "[1700]\tvalid_0's auc: 0.81483\tvalid_0's binary_logloss: 0.507862\n",
      "[1800]\tvalid_0's auc: 0.814897\tvalid_0's binary_logloss: 0.507823\n",
      "[1900]\tvalid_0's auc: 0.814961\tvalid_0's binary_logloss: 0.507787\n",
      "[2000]\tvalid_0's auc: 0.815015\tvalid_0's binary_logloss: 0.50776\n",
      "[2100]\tvalid_0's auc: 0.815016\tvalid_0's binary_logloss: 0.507752\n",
      "[2200]\tvalid_0's auc: 0.815009\tvalid_0's binary_logloss: 0.507753\n",
      "[2300]\tvalid_0's auc: 0.815067\tvalid_0's binary_logloss: 0.507728\n",
      "[2400]\tvalid_0's auc: 0.815079\tvalid_0's binary_logloss: 0.507716\n",
      "[2500]\tvalid_0's auc: 0.815055\tvalid_0's binary_logloss: 0.507717\n",
      "[2600]\tvalid_0's auc: 0.815095\tvalid_0's binary_logloss: 0.507687\n",
      "Early stopping, best iteration is:\n",
      "[2359]\tvalid_0's auc: 0.815106\tvalid_0's binary_logloss: 0.50771\n",
      "AUC for fold 1 \t\t 0.8151055 \n",
      "\n",
      "Out of fold predictions generating for fold  2 \n",
      "\n",
      "Training until validation scores don't improve for 300 rounds\n",
      "[100]\tvalid_0's auc: 0.811644\tvalid_0's binary_logloss: 0.507968\n",
      "[200]\tvalid_0's auc: 0.813932\tvalid_0's binary_logloss: 0.506523\n",
      "[300]\tvalid_0's auc: 0.814928\tvalid_0's binary_logloss: 0.505844\n",
      "[400]\tvalid_0's auc: 0.815615\tvalid_0's binary_logloss: 0.505383\n",
      "[500]\tvalid_0's auc: 0.816076\tvalid_0's binary_logloss: 0.505063\n",
      "[600]\tvalid_0's auc: 0.816449\tvalid_0's binary_logloss: 0.504812\n",
      "[700]\tvalid_0's auc: 0.81667\tvalid_0's binary_logloss: 0.504623\n",
      "[800]\tvalid_0's auc: 0.816905\tvalid_0's binary_logloss: 0.504468\n",
      "[900]\tvalid_0's auc: 0.817044\tvalid_0's binary_logloss: 0.504367\n",
      "[1000]\tvalid_0's auc: 0.817188\tvalid_0's binary_logloss: 0.504269\n",
      "[1100]\tvalid_0's auc: 0.81735\tvalid_0's binary_logloss: 0.504151\n",
      "[1200]\tvalid_0's auc: 0.817486\tvalid_0's binary_logloss: 0.504079\n",
      "[1300]\tvalid_0's auc: 0.817548\tvalid_0's binary_logloss: 0.50404\n",
      "[1400]\tvalid_0's auc: 0.817625\tvalid_0's binary_logloss: 0.503994\n",
      "[1500]\tvalid_0's auc: 0.817678\tvalid_0's binary_logloss: 0.50396\n",
      "[1600]\tvalid_0's auc: 0.817717\tvalid_0's binary_logloss: 0.503936\n",
      "[1700]\tvalid_0's auc: 0.817782\tvalid_0's binary_logloss: 0.503898\n",
      "[1800]\tvalid_0's auc: 0.817779\tvalid_0's binary_logloss: 0.503879\n",
      "[1900]\tvalid_0's auc: 0.817803\tvalid_0's binary_logloss: 0.503852\n",
      "[2000]\tvalid_0's auc: 0.817809\tvalid_0's binary_logloss: 0.503852\n",
      "[2100]\tvalid_0's auc: 0.817868\tvalid_0's binary_logloss: 0.503829\n",
      "[2200]\tvalid_0's auc: 0.81793\tvalid_0's binary_logloss: 0.503797\n",
      "[2300]\tvalid_0's auc: 0.817932\tvalid_0's binary_logloss: 0.503798\n",
      "[2400]\tvalid_0's auc: 0.817921\tvalid_0's binary_logloss: 0.503811\n",
      "[2500]\tvalid_0's auc: 0.817903\tvalid_0's binary_logloss: 0.50382\n",
      "Early stopping, best iteration is:\n",
      "[2258]\tvalid_0's auc: 0.817953\tvalid_0's binary_logloss: 0.503788\n",
      "AUC for fold 2 \t\t 0.8179535 \n",
      "\n",
      "Out of fold predictions generating for fold  3 \n",
      "\n",
      "Training until validation scores don't improve for 300 rounds\n",
      "[100]\tvalid_0's auc: 0.80914\tvalid_0's binary_logloss: 0.511085\n",
      "[200]\tvalid_0's auc: 0.811362\tvalid_0's binary_logloss: 0.509836\n",
      "[300]\tvalid_0's auc: 0.812349\tvalid_0's binary_logloss: 0.509234\n",
      "[400]\tvalid_0's auc: 0.813043\tvalid_0's binary_logloss: 0.508848\n",
      "[500]\tvalid_0's auc: 0.813541\tvalid_0's binary_logloss: 0.508528\n",
      "[600]\tvalid_0's auc: 0.813945\tvalid_0's binary_logloss: 0.508299\n",
      "[700]\tvalid_0's auc: 0.814233\tvalid_0's binary_logloss: 0.508118\n",
      "[800]\tvalid_0's auc: 0.814521\tvalid_0's binary_logloss: 0.507958\n",
      "[900]\tvalid_0's auc: 0.81479\tvalid_0's binary_logloss: 0.507817\n",
      "[1000]\tvalid_0's auc: 0.814891\tvalid_0's binary_logloss: 0.507752\n",
      "[1100]\tvalid_0's auc: 0.814941\tvalid_0's binary_logloss: 0.507708\n",
      "[1200]\tvalid_0's auc: 0.814962\tvalid_0's binary_logloss: 0.507675\n",
      "[1300]\tvalid_0's auc: 0.815051\tvalid_0's binary_logloss: 0.507627\n",
      "[1400]\tvalid_0's auc: 0.815068\tvalid_0's binary_logloss: 0.507606\n",
      "[1500]\tvalid_0's auc: 0.815083\tvalid_0's binary_logloss: 0.507595\n",
      "[1600]\tvalid_0's auc: 0.815082\tvalid_0's binary_logloss: 0.507583\n",
      "[1700]\tvalid_0's auc: 0.815138\tvalid_0's binary_logloss: 0.507558\n",
      "[1800]\tvalid_0's auc: 0.815141\tvalid_0's binary_logloss: 0.507561\n",
      "[1900]\tvalid_0's auc: 0.815141\tvalid_0's binary_logloss: 0.507577\n",
      "[2000]\tvalid_0's auc: 0.815174\tvalid_0's binary_logloss: 0.507564\n",
      "[2100]\tvalid_0's auc: 0.815199\tvalid_0's binary_logloss: 0.507559\n",
      "Early stopping, best iteration is:\n",
      "[1835]\tvalid_0's auc: 0.81517\tvalid_0's binary_logloss: 0.507543\n",
      "AUC for fold 3 \t\t 0.8151703 \n",
      "\n",
      "Out of fold predictions generating for fold  4 \n",
      "\n",
      "Training until validation scores don't improve for 300 rounds\n",
      "[100]\tvalid_0's auc: 0.806337\tvalid_0's binary_logloss: 0.513723\n",
      "[200]\tvalid_0's auc: 0.80839\tvalid_0's binary_logloss: 0.512499\n",
      "[300]\tvalid_0's auc: 0.809326\tvalid_0's binary_logloss: 0.511907\n",
      "[400]\tvalid_0's auc: 0.810105\tvalid_0's binary_logloss: 0.511462\n",
      "[500]\tvalid_0's auc: 0.810585\tvalid_0's binary_logloss: 0.511163\n",
      "[600]\tvalid_0's auc: 0.8109\tvalid_0's binary_logloss: 0.510964\n",
      "[700]\tvalid_0's auc: 0.811151\tvalid_0's binary_logloss: 0.510797\n",
      "[800]\tvalid_0's auc: 0.811338\tvalid_0's binary_logloss: 0.510683\n",
      "[900]\tvalid_0's auc: 0.811531\tvalid_0's binary_logloss: 0.510574\n",
      "[1000]\tvalid_0's auc: 0.811706\tvalid_0's binary_logloss: 0.510473\n",
      "[1100]\tvalid_0's auc: 0.811821\tvalid_0's binary_logloss: 0.510421\n",
      "[1200]\tvalid_0's auc: 0.811944\tvalid_0's binary_logloss: 0.510354\n",
      "[1300]\tvalid_0's auc: 0.812067\tvalid_0's binary_logloss: 0.5103\n",
      "[1400]\tvalid_0's auc: 0.812104\tvalid_0's binary_logloss: 0.51028\n",
      "[1500]\tvalid_0's auc: 0.812215\tvalid_0's binary_logloss: 0.510231\n",
      "[1600]\tvalid_0's auc: 0.812248\tvalid_0's binary_logloss: 0.51021\n",
      "[1700]\tvalid_0's auc: 0.812317\tvalid_0's binary_logloss: 0.510183\n",
      "[1800]\tvalid_0's auc: 0.812336\tvalid_0's binary_logloss: 0.510178\n",
      "[1900]\tvalid_0's auc: 0.812368\tvalid_0's binary_logloss: 0.510176\n",
      "[2000]\tvalid_0's auc: 0.812361\tvalid_0's binary_logloss: 0.510186\n",
      "[2100]\tvalid_0's auc: 0.812362\tvalid_0's binary_logloss: 0.510193\n",
      "Early stopping, best iteration is:\n",
      "[1819]\tvalid_0's auc: 0.812359\tvalid_0's binary_logloss: 0.510166\n",
      "AUC for fold 4 \t\t 0.8123591 \n",
      "\n",
      "Out of fold predictions generating for fold  5 \n",
      "\n",
      "Training until validation scores don't improve for 300 rounds\n",
      "[100]\tvalid_0's auc: 0.80795\tvalid_0's binary_logloss: 0.513083\n",
      "[200]\tvalid_0's auc: 0.809969\tvalid_0's binary_logloss: 0.511884\n",
      "[300]\tvalid_0's auc: 0.81106\tvalid_0's binary_logloss: 0.511223\n",
      "[400]\tvalid_0's auc: 0.811691\tvalid_0's binary_logloss: 0.510815\n",
      "[500]\tvalid_0's auc: 0.81223\tvalid_0's binary_logloss: 0.51047\n",
      "[600]\tvalid_0's auc: 0.812502\tvalid_0's binary_logloss: 0.510249\n",
      "[700]\tvalid_0's auc: 0.812767\tvalid_0's binary_logloss: 0.510071\n",
      "[800]\tvalid_0's auc: 0.812928\tvalid_0's binary_logloss: 0.509937\n",
      "[900]\tvalid_0's auc: 0.813123\tvalid_0's binary_logloss: 0.50982\n",
      "[1000]\tvalid_0's auc: 0.81324\tvalid_0's binary_logloss: 0.509727\n",
      "[1100]\tvalid_0's auc: 0.813337\tvalid_0's binary_logloss: 0.50966\n",
      "[1200]\tvalid_0's auc: 0.813433\tvalid_0's binary_logloss: 0.509592\n",
      "[1300]\tvalid_0's auc: 0.813431\tvalid_0's binary_logloss: 0.509583\n",
      "[1400]\tvalid_0's auc: 0.813545\tvalid_0's binary_logloss: 0.509525\n",
      "[1500]\tvalid_0's auc: 0.813588\tvalid_0's binary_logloss: 0.509492\n",
      "[1600]\tvalid_0's auc: 0.813645\tvalid_0's binary_logloss: 0.509469\n",
      "[1700]\tvalid_0's auc: 0.813701\tvalid_0's binary_logloss: 0.509441\n",
      "[1800]\tvalid_0's auc: 0.813759\tvalid_0's binary_logloss: 0.509421\n",
      "[1900]\tvalid_0's auc: 0.813761\tvalid_0's binary_logloss: 0.509424\n",
      "[2000]\tvalid_0's auc: 0.813782\tvalid_0's binary_logloss: 0.509409\n",
      "[2100]\tvalid_0's auc: 0.813791\tvalid_0's binary_logloss: 0.509404\n",
      "Early stopping, best iteration is:\n",
      "[1868]\tvalid_0's auc: 0.813807\tvalid_0's binary_logloss: 0.509393\n",
      "AUC for fold 5 \t\t 0.8138069 \n",
      "\n",
      "Out of fold predictions generating for fold  6 \n",
      "\n",
      "Training until validation scores don't improve for 300 rounds\n",
      "[100]\tvalid_0's auc: 0.808664\tvalid_0's binary_logloss: 0.5111\n",
      "[200]\tvalid_0's auc: 0.811177\tvalid_0's binary_logloss: 0.509759\n",
      "[300]\tvalid_0's auc: 0.812319\tvalid_0's binary_logloss: 0.509117\n",
      "[400]\tvalid_0's auc: 0.812965\tvalid_0's binary_logloss: 0.508687\n",
      "[500]\tvalid_0's auc: 0.813448\tvalid_0's binary_logloss: 0.508366\n",
      "[600]\tvalid_0's auc: 0.813933\tvalid_0's binary_logloss: 0.508078\n",
      "[700]\tvalid_0's auc: 0.814257\tvalid_0's binary_logloss: 0.507875\n",
      "[800]\tvalid_0's auc: 0.814467\tvalid_0's binary_logloss: 0.507733\n",
      "[900]\tvalid_0's auc: 0.814701\tvalid_0's binary_logloss: 0.507589\n",
      "[1000]\tvalid_0's auc: 0.814832\tvalid_0's binary_logloss: 0.507495\n",
      "[1100]\tvalid_0's auc: 0.814871\tvalid_0's binary_logloss: 0.50745\n",
      "[1200]\tvalid_0's auc: 0.815006\tvalid_0's binary_logloss: 0.507371\n",
      "[1300]\tvalid_0's auc: 0.815091\tvalid_0's binary_logloss: 0.507324\n",
      "[1400]\tvalid_0's auc: 0.81513\tvalid_0's binary_logloss: 0.507303\n",
      "[1500]\tvalid_0's auc: 0.815172\tvalid_0's binary_logloss: 0.507298\n",
      "[1600]\tvalid_0's auc: 0.815185\tvalid_0's binary_logloss: 0.507286\n",
      "[1700]\tvalid_0's auc: 0.815259\tvalid_0's binary_logloss: 0.507246\n",
      "[1800]\tvalid_0's auc: 0.815304\tvalid_0's binary_logloss: 0.507227\n",
      "[1900]\tvalid_0's auc: 0.815361\tvalid_0's binary_logloss: 0.507198\n",
      "[2000]\tvalid_0's auc: 0.815424\tvalid_0's binary_logloss: 0.507174\n",
      "[2100]\tvalid_0's auc: 0.815414\tvalid_0's binary_logloss: 0.507191\n",
      "[2200]\tvalid_0's auc: 0.815457\tvalid_0's binary_logloss: 0.507176\n",
      "[2300]\tvalid_0's auc: 0.815467\tvalid_0's binary_logloss: 0.507173\n",
      "[2400]\tvalid_0's auc: 0.81546\tvalid_0's binary_logloss: 0.507179\n",
      "[2500]\tvalid_0's auc: 0.81553\tvalid_0's binary_logloss: 0.507142\n",
      "[2600]\tvalid_0's auc: 0.815533\tvalid_0's binary_logloss: 0.507147\n",
      "[2700]\tvalid_0's auc: 0.815549\tvalid_0's binary_logloss: 0.507129\n",
      "[2800]\tvalid_0's auc: 0.815579\tvalid_0's binary_logloss: 0.507117\n",
      "[2900]\tvalid_0's auc: 0.815579\tvalid_0's binary_logloss: 0.507118\n",
      "[3000]\tvalid_0's auc: 0.815537\tvalid_0's binary_logloss: 0.507149\n",
      "[3100]\tvalid_0's auc: 0.815536\tvalid_0's binary_logloss: 0.507155\n",
      "[3200]\tvalid_0's auc: 0.81559\tvalid_0's binary_logloss: 0.507147\n",
      "Early stopping, best iteration is:\n",
      "[2931]\tvalid_0's auc: 0.815598\tvalid_0's binary_logloss: 0.50711\n",
      "AUC for fold 6 \t\t 0.8155977 \n",
      "\n",
      "Out of fold predictions generating for fold  7 \n",
      "\n",
      "Training until validation scores don't improve for 300 rounds\n",
      "[100]\tvalid_0's auc: 0.808097\tvalid_0's binary_logloss: 0.512323\n",
      "[200]\tvalid_0's auc: 0.810096\tvalid_0's binary_logloss: 0.511137\n",
      "[300]\tvalid_0's auc: 0.811446\tvalid_0's binary_logloss: 0.510458\n",
      "[400]\tvalid_0's auc: 0.812116\tvalid_0's binary_logloss: 0.510043\n",
      "[500]\tvalid_0's auc: 0.812699\tvalid_0's binary_logloss: 0.509692\n",
      "[600]\tvalid_0's auc: 0.813082\tvalid_0's binary_logloss: 0.509457\n",
      "[700]\tvalid_0's auc: 0.813352\tvalid_0's binary_logloss: 0.509273\n",
      "[800]\tvalid_0's auc: 0.813639\tvalid_0's binary_logloss: 0.509106\n",
      "[900]\tvalid_0's auc: 0.813735\tvalid_0's binary_logloss: 0.509021\n",
      "[1000]\tvalid_0's auc: 0.813838\tvalid_0's binary_logloss: 0.508961\n",
      "[1100]\tvalid_0's auc: 0.814007\tvalid_0's binary_logloss: 0.50887\n",
      "[1200]\tvalid_0's auc: 0.814155\tvalid_0's binary_logloss: 0.508772\n",
      "[1300]\tvalid_0's auc: 0.814178\tvalid_0's binary_logloss: 0.50876\n",
      "[1400]\tvalid_0's auc: 0.814292\tvalid_0's binary_logloss: 0.508703\n",
      "[1500]\tvalid_0's auc: 0.814384\tvalid_0's binary_logloss: 0.508641\n",
      "[1600]\tvalid_0's auc: 0.814421\tvalid_0's binary_logloss: 0.508622\n",
      "[1700]\tvalid_0's auc: 0.814452\tvalid_0's binary_logloss: 0.508608\n",
      "[1800]\tvalid_0's auc: 0.814487\tvalid_0's binary_logloss: 0.508588\n",
      "[1900]\tvalid_0's auc: 0.814533\tvalid_0's binary_logloss: 0.508572\n",
      "[2000]\tvalid_0's auc: 0.814529\tvalid_0's binary_logloss: 0.508567\n",
      "[2100]\tvalid_0's auc: 0.814539\tvalid_0's binary_logloss: 0.508568\n",
      "[2200]\tvalid_0's auc: 0.814557\tvalid_0's binary_logloss: 0.508561\n",
      "[2300]\tvalid_0's auc: 0.814489\tvalid_0's binary_logloss: 0.508607\n",
      "Early stopping, best iteration is:\n",
      "[2057]\tvalid_0's auc: 0.814553\tvalid_0's binary_logloss: 0.508552\n",
      "AUC for fold 7 \t\t 0.8145527 \n",
      "\n",
      "AUC for Training Set: \t\t 0.8149308 \n",
      "\n"
     ]
    }
   ],
   "source": [
    "oof_lgb = np.zeros(len(X))\n",
    "predictions_lgb = np.zeros(len(test))\n",
    "i = 1\n",
    "\n",
    "for train_ix, test_ix in kf.split(X.values):\n",
    "        \n",
    "    print(\"Out of fold predictions generating for fold  {} \\n\".format(i))\n",
    "        \n",
    "    train_X, train_y = X.values[train_ix], y.values[train_ix]\n",
    "    test_X, test_y = X.values[test_ix], y.values[test_ix]\n",
    "    \n",
    "    model_lgb = LGBMClassifier(\n",
    "        random_state = SEED,\n",
    "        n_estimators = 20000,\n",
    "        learning_rate = 0.095,\n",
    "   #     device = 'gpu',\n",
    "        **params\n",
    "    )   \n",
    "       \n",
    "    model_lgb.fit(\n",
    "        train_X, \n",
    "        train_y,\n",
    "        eval_set = [(test_X, test_y)],\n",
    "        eval_metric = \"auc\",\n",
    "        early_stopping_rounds = 300,\n",
    "        verbose = 100,\n",
    "    )\n",
    "    \n",
    "    oof_lgb[test_ix] = oof_lgb[test_ix] + model_lgb.predict_proba(test_X)[:, 1]\n",
    "    predictions_lgb = predictions_lgb + model_lgb.predict_proba(test)[:, 1]\n",
    "    \n",
    "    print(\"AUC for fold {} \\t\\t {} \\n\".format(i, round(roc_auc_score(test_y, oof_lgb[test_ix]), 7)))\n",
    "    \n",
    "    i = i + 1\n",
    "    \n",
    "print(\"AUC for Training Set: \\t\\t {} \\n\".format(round(roc_auc_score(y, oof_lgb), 7)))"
   ]
  },
  {
   "cell_type": "code",
   "execution_count": 18,
   "id": "ce74588c",
   "metadata": {
    "execution": {
     "iopub.execute_input": "2021-09-30T11:49:12.656716Z",
     "iopub.status.busy": "2021-09-30T11:49:12.655773Z",
     "iopub.status.idle": "2021-09-30T11:49:14.708948Z",
     "shell.execute_reply": "2021-09-30T11:49:14.709519Z",
     "shell.execute_reply.started": "2021-09-30T11:20:35.621111Z"
    },
    "papermill": {
     "duration": 2.150252,
     "end_time": "2021-09-30T11:49:14.709687",
     "exception": false,
     "start_time": "2021-09-30T11:49:12.559435",
     "status": "completed"
    },
    "tags": []
   },
   "outputs": [
    {
     "data": {
      "text/html": [
       "<div>\n",
       "<style scoped>\n",
       "    .dataframe tbody tr th:only-of-type {\n",
       "        vertical-align: middle;\n",
       "    }\n",
       "\n",
       "    .dataframe tbody tr th {\n",
       "        vertical-align: top;\n",
       "    }\n",
       "\n",
       "    .dataframe thead th {\n",
       "        text-align: right;\n",
       "    }\n",
       "</style>\n",
       "<table border=\"1\" class=\"dataframe\">\n",
       "  <thead>\n",
       "    <tr style=\"text-align: right;\">\n",
       "      <th></th>\n",
       "      <th>id</th>\n",
       "      <th>claim</th>\n",
       "    </tr>\n",
       "  </thead>\n",
       "  <tbody>\n",
       "    <tr>\n",
       "      <th>0</th>\n",
       "      <td>957919</td>\n",
       "      <td>0.554520</td>\n",
       "    </tr>\n",
       "    <tr>\n",
       "      <th>1</th>\n",
       "      <td>957920</td>\n",
       "      <td>0.118785</td>\n",
       "    </tr>\n",
       "    <tr>\n",
       "      <th>2</th>\n",
       "      <td>957921</td>\n",
       "      <td>0.617732</td>\n",
       "    </tr>\n",
       "    <tr>\n",
       "      <th>3</th>\n",
       "      <td>957922</td>\n",
       "      <td>0.139650</td>\n",
       "    </tr>\n",
       "    <tr>\n",
       "      <th>4</th>\n",
       "      <td>957923</td>\n",
       "      <td>0.140801</td>\n",
       "    </tr>\n",
       "    <tr>\n",
       "      <th>5</th>\n",
       "      <td>957924</td>\n",
       "      <td>0.183717</td>\n",
       "    </tr>\n",
       "    <tr>\n",
       "      <th>6</th>\n",
       "      <td>957925</td>\n",
       "      <td>0.813451</td>\n",
       "    </tr>\n",
       "    <tr>\n",
       "      <th>7</th>\n",
       "      <td>957926</td>\n",
       "      <td>0.170561</td>\n",
       "    </tr>\n",
       "    <tr>\n",
       "      <th>8</th>\n",
       "      <td>957927</td>\n",
       "      <td>0.592622</td>\n",
       "    </tr>\n",
       "    <tr>\n",
       "      <th>9</th>\n",
       "      <td>957928</td>\n",
       "      <td>0.727793</td>\n",
       "    </tr>\n",
       "  </tbody>\n",
       "</table>\n",
       "</div>"
      ],
      "text/plain": [
       "       id     claim\n",
       "0  957919  0.554520\n",
       "1  957920  0.118785\n",
       "2  957921  0.617732\n",
       "3  957922  0.139650\n",
       "4  957923  0.140801\n",
       "5  957924  0.183717\n",
       "6  957925  0.813451\n",
       "7  957926  0.170561\n",
       "8  957927  0.592622\n",
       "9  957928  0.727793"
      ]
     },
     "execution_count": 18,
     "metadata": {},
     "output_type": "execute_result"
    }
   ],
   "source": [
    "submission = pd.read_csv(\"../input/tabular-playground-series-sep-2021/sample_solution.csv\")\n",
    "submission['claim'] = predictions_lgb / 7\n",
    "submission.to_csv(\"submission.csv\", index = False)\n",
    "submission.head(10)"
   ]
  }
 ],
 "metadata": {
  "kernelspec": {
   "display_name": "Python 3",
   "language": "python",
   "name": "python3"
  },
  "language_info": {
   "codemirror_mode": {
    "name": "ipython",
    "version": 3
   },
   "file_extension": ".py",
   "mimetype": "text/x-python",
   "name": "python",
   "nbconvert_exporter": "python",
   "pygments_lexer": "ipython3",
   "version": "3.7.10"
  },
  "papermill": {
   "default_parameters": {},
   "duration": 1637.34914,
   "end_time": "2021-09-30T11:49:16.121755",
   "environment_variables": {},
   "exception": null,
   "input_path": "__notebook__.ipynb",
   "output_path": "__notebook__.ipynb",
   "parameters": {},
   "start_time": "2021-09-30T11:21:58.772615",
   "version": "2.3.3"
  }
 },
 "nbformat": 4,
 "nbformat_minor": 5
}
